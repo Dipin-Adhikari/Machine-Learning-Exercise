{
 "cells": [
  {
   "cell_type": "markdown",
   "id": "bf3fe50e",
   "metadata": {},
   "source": [
    "There are two kinds of features unique to time series: time-step features and lag features.\n",
    "\n",
    "#### Time-step features\n",
    "Time-step features are the features we can derive directly from the time index. The most basic time-step feature is the time dummy, which counts off time steps in the series from beginning to end.\n",
    "\n",
    "It lets you model time dependence. A series is time dependent if its values can be predicted from the time they occured.\n",
    "\n",
    "\n",
    "#### Lag Features\n",
    "It refers to a transformation of a time series variable where the value of the variable at a previous time step is used as a predictor for the value of the variable at the current time step.\n",
    "\n",
    "It lets you model serial dependence. A time series has serial dependence when an observation can be predicted from previous observations."
   ]
  },
  {
   "cell_type": "markdown",
   "id": "d23f4774",
   "metadata": {},
   "source": [
    "#### Trend\n",
    "The trend component of a time series represents a persistent, long-term change in the mean of the series. The trend is the slowest-moving part of a series, the part representing the largest time scale of importance. \n",
    "\n",
    "\n",
    "#### Moving Average Plots\n",
    "To compute moving average of a time-series, we compute the average of the values within a sliding window of some defined width. Each point on the graph represents the average of all the values in the series that fall within the window on either side. The idea is to smooth out any short-term fluctuations in the series so that only long-term changes remain."
   ]
  }
 ],
 "metadata": {
  "kernelspec": {
   "display_name": "Python 3 (ipykernel)",
   "language": "python",
   "name": "python3"
  },
  "language_info": {
   "codemirror_mode": {
    "name": "ipython",
    "version": 3
   },
   "file_extension": ".py",
   "mimetype": "text/x-python",
   "name": "python",
   "nbconvert_exporter": "python",
   "pygments_lexer": "ipython3",
   "version": "3.7.4"
  }
 },
 "nbformat": 4,
 "nbformat_minor": 5
}
