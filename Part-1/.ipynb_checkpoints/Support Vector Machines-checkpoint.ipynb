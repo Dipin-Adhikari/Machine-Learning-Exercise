{
 "cells": [
  {
   "cell_type": "markdown",
   "id": "15b4412b",
   "metadata": {},
   "source": [
    "SVM can perform linear or non-linear classification, regression, and even outlier detection. It draws a line or a hyperplane that separates these points into different classes. It finds the best possible line/hyperplane by maximizing the margin, which is the distance between the line and the nearest data points from each class. "
   ]
  },
  {
   "cell_type": "markdown",
   "id": "79d66ceb",
   "metadata": {},
   "source": [
    "#### Hard Margin Classification\n",
    "\n",
    "It is a concept in SVM where the algorithm strictly enforces the margin between classes to be as wide as possible while ensuring that no data points lie within the margin or on wrong side of the decision boundary(hyperplane). \n",
    "While hard margin classification can yield a very accurate decision boundary when the data is perfectly separable, it can be sensitive to outliers or noisy data points. \n",
    "\n",
    "\n",
    "#### Soft Margin Classification\n",
    "Unlike hard margin classification, it allows for some misclassification of training examples in order to find a more generalized decision boundary. The objective is to find a balance between maximizing the margin and minimizing the classification errors. This is achieved by introducing a penalty parameter C that controls the trade-off between margin width and the number of misclassified examples. \n",
    "\n",
    "A smaller C value leads to a wider street but more margin violations. \n",
    "A higher C value leads to a smaller street but less margin violations.\n",
    "\n",
    "If the SVM model is overfitting, we can try regularizing it by reducing C."
   ]
  },
  {
   "cell_type": "code",
   "execution_count": 1,
   "id": "c78775e5",
   "metadata": {},
   "outputs": [],
   "source": [
    "import numpy as np\n",
    "from sklearn import datasets\n",
    "from sklearn.pipeline import Pipeline\n",
    "from sklearn.preprocessing import StandardScaler\n",
    "from sklearn.svm import LinearSVC"
   ]
  },
  {
   "cell_type": "code",
   "execution_count": 2,
   "id": "f35f6fee",
   "metadata": {},
   "outputs": [],
   "source": [
    "iris = datasets.load_iris()\n",
    "X = iris['data'][:, (2, 3)]\n",
    "y = (iris[\"target\"] == 2).astype(np.float64)"
   ]
  },
  {
   "cell_type": "code",
   "execution_count": 7,
   "id": "767d0b07",
   "metadata": {},
   "outputs": [
    {
     "data": {
      "text/plain": [
       "Pipeline(steps=[('scaler', StandardScaler()),\n",
       "                ('linear_svc', LinearSVC(C=1, loss='hinge'))])"
      ]
     },
     "execution_count": 7,
     "metadata": {},
     "output_type": "execute_result"
    }
   ],
   "source": [
    "svm_clf = Pipeline(((\"scaler\", StandardScaler()),\n",
    "                   (\"linear_svc\", LinearSVC(C=1, loss='hinge')),\n",
    "                   ))\n",
    "svm_clf.fit(X, y)"
   ]
  },
  {
   "cell_type": "code",
   "execution_count": 8,
   "id": "f8364f4d",
   "metadata": {},
   "outputs": [
    {
     "data": {
      "text/plain": [
       "array([1.])"
      ]
     },
     "execution_count": 8,
     "metadata": {},
     "output_type": "execute_result"
    }
   ],
   "source": [
    "svm_clf.predict([[5.5, 1.7]])"
   ]
  },
  {
   "cell_type": "code",
   "execution_count": 9,
   "id": "2978b59e",
   "metadata": {},
   "outputs": [],
   "source": [
    "from sklearn.datasets import make_moons\n",
    "from sklearn.pipeline import Pipeline\n",
    "from sklearn.preprocessing import PolynomialFeatures\n",
    "\n",
    "polynomial_svm_clf = Pipeline((('poly_features', PolynomialFeatures(degree=3)),\n",
    "                              (\"scaler\", StandardScaler()),\n",
    "                              ('svm_clf', LinearSVC(C=10, loss='hinge')),\n",
    "                              ))"
   ]
  },
  {
   "cell_type": "code",
   "execution_count": 10,
   "id": "716f689d",
   "metadata": {},
   "outputs": [],
   "source": [
    "X, y = make_moons(n_samples=100, noise=0.15, random_state=42)"
   ]
  },
  {
   "cell_type": "code",
   "execution_count": 11,
   "id": "7ad0ef53",
   "metadata": {},
   "outputs": [
    {
     "name": "stderr",
     "output_type": "stream",
     "text": [
      "D:\\ML\\lib\\site-packages\\sklearn\\svm\\_base.py:1208: ConvergenceWarning: Liblinear failed to converge, increase the number of iterations.\n",
      "  ConvergenceWarning,\n"
     ]
    },
    {
     "data": {
      "text/plain": [
       "Pipeline(steps=[('poly_features', PolynomialFeatures(degree=3)),\n",
       "                ('scaler', StandardScaler()),\n",
       "                ('svm_clf', LinearSVC(C=10, loss='hinge'))])"
      ]
     },
     "execution_count": 11,
     "metadata": {},
     "output_type": "execute_result"
    }
   ],
   "source": [
    "polynomial_svm_clf.fit(X, y)"
   ]
  },
  {
   "cell_type": "code",
   "execution_count": 18,
   "id": "2b883bed",
   "metadata": {},
   "outputs": [
    {
     "data": {
      "text/plain": [
       "Text(0, 0.5, '$x_2$')"
      ]
     },
     "execution_count": 18,
     "metadata": {},
     "output_type": "execute_result"
    },
    {
     "data": {
      "image/png": "[encoded data removed]",
      "text/plain": [
       "<Figure size 640x480 with 1 Axes>"
      ]
     },
     "metadata": {},
     "output_type": "display_data"
    }
   ],
   "source": [
    "%matplotlib inline\n",
    "import matplotlib.pyplot as plt\n",
    "\n",
    "plt.plot(X[:, 0][y==0], X[:, 1][y==0], 'bs')\n",
    "plt.plot(X[:, 0][y==1], X[:, 1][y==1], 'g^')\n",
    "plt.grid(True, which='both')\n",
    "plt.xlabel(r\"$x_1$\", fontsize=20)\n",
    "plt.ylabel(r\"$x_2$\", fontsize=20, rotation=0)"
   ]
  },
  {
   "cell_type": "code",
   "execution_count": null,
   "id": "6acac8d1",
   "metadata": {},
   "outputs": [],
   "source": []
  }
 ],
 "metadata": {
  "kernelspec": {
   "display_name": "Python 3 (ipykernel)",
   "language": "python",
   "name": "python3"
  },
  "language_info": {
   "codemirror_mode": {
    "name": "ipython",
    "version": 3
   },
   "file_extension": ".py",
   "mimetype": "text/x-python",
   "name": "python",
   "nbconvert_exporter": "python",
   "pygments_lexer": "ipython3",
   "version": "3.7.4"
  }
 },
 "nbformat": 4,
 "nbformat_minor": 5
}
