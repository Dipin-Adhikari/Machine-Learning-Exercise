{
 "cells": [
  {
   "cell_type": "markdown",
   "id": "ce543b93",
   "metadata": {},
   "source": [
    "#### Hard Voting Classifier\n",
    "\n",
    "We can create a better classifier by aggregating the predictions of each classifier and predict the class that gets the most votes. It is known as hard voting classifier.\n",
    "\n",
    "\n",
    "Ensemble methods work best when the predictors are as independent from one another as possible. "
   ]
  },
  {
   "cell_type": "code",
   "execution_count": 1,
   "id": "45ffacd2",
   "metadata": {},
   "outputs": [],
   "source": [
    "from sklearn.ensemble import RandomForestClassifier\n",
    "from sklearn.ensemble import VotingClassifier\n",
    "from sklearn.linear_model import LogisticRegression\n",
    "from sklearn.svm import SVC\n",
    "\n",
    "log_clf = LogisticRegression(solver='liblinear', random_state=42)\n",
    "rnd_clf = RandomForestClassifier(n_estimators=10, random_state=42)\n",
    "svm_clf = SVC(gamma='auto', random_state=42)\n",
    "\n",
    "voting_clf = VotingClassifier(\n",
    "    estimators=[('lr', log_clf), ('rf', rnd_clf), ('svc', svm_clf)],\n",
    "    voting='hard')\n"
   ]
  },
  {
   "cell_type": "code",
   "execution_count": 2,
   "id": "4739f0b5",
   "metadata": {},
   "outputs": [],
   "source": [
    "from sklearn.datasets import make_moons\n",
    "from sklearn.model_selection import train_test_split\n",
    "\n",
    "X, y = make_moons(n_samples=500, noise=0.3, random_state=42)\n",
    "X_train, X_test, y_train, y_test = train_test_split(X, y, test_size=0.2, random_state=42)"
   ]
  },
  {
   "cell_type": "code",
   "execution_count": 3,
   "id": "4692aac0",
   "metadata": {},
   "outputs": [
    {
     "data": {
      "text/plain": [
       "VotingClassifier(estimators=[('lr',\n",
       "                              LogisticRegression(random_state=42,\n",
       "                                                 solver='liblinear')),\n",
       "                             ('rf',\n",
       "                              RandomForestClassifier(n_estimators=10,\n",
       "                                                     random_state=42)),\n",
       "                             ('svc', SVC(gamma='auto', random_state=42))])"
      ]
     },
     "execution_count": 3,
     "metadata": {},
     "output_type": "execute_result"
    }
   ],
   "source": [
    "voting_clf.fit(X_train, y_train)"
   ]
  },
  {
   "cell_type": "code",
   "execution_count": 4,
   "id": "f41aceae",
   "metadata": {},
   "outputs": [
    {
     "name": "stdout",
     "output_type": "stream",
     "text": [
      "LogisticRegression 0.85\n",
      "RandomForestClassifier 0.88\n",
      "SVC 0.87\n",
      "VotingClassifier 0.87\n"
     ]
    }
   ],
   "source": [
    "from sklearn.metrics import accuracy_score\n",
    "\n",
    "for clf in (log_clf, rnd_clf, svm_clf, voting_clf):\n",
    "    clf.fit(X_train, y_train)\n",
    "    y_pred = clf.predict(X_test)\n",
    "    print(clf.__class__.__name__, accuracy_score(y_test, y_pred))"
   ]
  },
  {
   "cell_type": "markdown",
   "id": "694471c8",
   "metadata": {},
   "source": [
    "#### Soft Voting Classifier\n",
    "\n",
    "It is method where the predictions of multiple individual models are combined to make a final prediction. It achieves higher performance than voting because it gives more weight to highly confident votes.  "
   ]
  },
  {
   "cell_type": "code",
   "execution_count": 5,
   "id": "89c5734e",
   "metadata": {},
   "outputs": [],
   "source": [
    "log_clf = LogisticRegression(solver='liblinear', random_state=42)\n",
    "rnd_clf = RandomForestClassifier(n_estimators=10, random_state=42)\n",
    "svm_clf = SVC(gamma='auto', probability=True,  random_state=42)\n",
    "\n",
    "voting_clf = VotingClassifier(\n",
    "    estimators=[('lr', log_clf), ('rf', rnd_clf), ('svc', svm_clf)],\n",
    "    voting='soft')"
   ]
  },
  {
   "cell_type": "code",
   "execution_count": 6,
   "id": "f5be5c21",
   "metadata": {},
   "outputs": [
    {
     "name": "stdout",
     "output_type": "stream",
     "text": [
      "LogisticRegression 0.85\n",
      "RandomForestClassifier 0.88\n",
      "SVC 0.87\n",
      "VotingClassifier 0.9\n"
     ]
    }
   ],
   "source": [
    "for clf in (log_clf, rnd_clf, svm_clf, voting_clf):\n",
    "    clf.fit(X_train, y_train)\n",
    "    y_pred = clf.predict(X_test)\n",
    "    print(clf.__class__.__name__, accuracy_score(y_test, y_pred))"
   ]
  },
  {
   "cell_type": "markdown",
   "id": "4822c020",
   "metadata": {},
   "source": [
    "### Bagging and Pasting\n",
    "\n",
    "Bagging uses the same training algorithm for every predictor, but to train them on different random subsets of the training set by sampling with replacement(Bootstraping). But if sampling is performed without replacement, it is called pasting.\n",
    "\n",
    "Scikit-learn offers BaggingClassifier class or BaggingRegressor class for both bagging and pasting. For pasting we can state the bootstrap hyperparameter to False. \n",
    "\n",
    "The BaggingClassifier automatically performs soft voting instead of hard voting if the base classifier can estimate class probabilities.\n",
    "\n",
    "Bootstrapping introduces a bit more diversity in the subsets that each predictor is trained on, so bagging ends up with a slightly higher bias than pasting, but predictors end up being less correlated so the ensemble's variance is reduced. Overall, bagging often results in better models."
   ]
  },
  {
   "cell_type": "code",
   "execution_count": 8,
   "id": "5d921b9d",
   "metadata": {},
   "outputs": [],
   "source": [
    "from sklearn.ensemble import BaggingClassifier\n",
    "from sklearn.tree import DecisionTreeClassifier\n",
    "\n",
    "bag_clf = BaggingClassifier(\n",
    "            DecisionTreeClassifier(), n_estimators=500,\n",
    "            max_samples=100, bootstrap=True)\n",
    "bag_clf.fit(X_train, y_train)\n",
    "y_pred = bag_clf.predict(X_test)"
   ]
  },
  {
   "cell_type": "code",
   "execution_count": 9,
   "id": "e5b27c2a",
   "metadata": {},
   "outputs": [
    {
     "name": "stdout",
     "output_type": "stream",
     "text": [
      "0.89\n"
     ]
    }
   ],
   "source": [
    "print(accuracy_score(y_test, y_pred))"
   ]
  },
  {
   "cell_type": "markdown",
   "id": "b7b9cb7f",
   "metadata": {},
   "source": [
    "### Out-of-Bag Evaluation\n",
    "\n",
    "With bagging, some instances may be sampled several times for any given predictor, while others may not be sampled at all. The probability of not selecting n samples in n draws is (1-1/n)^n. When the value is big, we can approximate this probability to 1/e, which is 0.3678. This means when the dataset is big enough, 37% of its samples are never selected and we could use it to test our model. This is called Out-of-Bag Scoring, or OOB Scoring.\n",
    "\n",
    "In Scikit-learn, we can set oob_score=True when creating a BaggingClassifier to request an automatic oob evaluation after training."
   ]
  },
  {
   "cell_type": "code",
   "execution_count": 10,
   "id": "c4c25bcd",
   "metadata": {},
   "outputs": [
    {
     "data": {
      "text/plain": [
       "BaggingClassifier(base_estimator=DecisionTreeClassifier(), n_estimators=500,\n",
       "                  oob_score=True)"
      ]
     },
     "execution_count": 10,
     "metadata": {},
     "output_type": "execute_result"
    }
   ],
   "source": [
    "bag_clf = BaggingClassifier(\n",
    "                DecisionTreeClassifier(), n_estimators=500,\n",
    "                bootstrap=True, oob_score=True)\n",
    "\n",
    "bag_clf.fit(X_train, y_train)"
   ]
  },
  {
   "cell_type": "code",
   "execution_count": 11,
   "id": "4d34b29a",
   "metadata": {},
   "outputs": [
    {
     "data": {
      "text/plain": [
       "0.915"
      ]
     },
     "execution_count": 11,
     "metadata": {},
     "output_type": "execute_result"
    }
   ],
   "source": [
    "bag_clf.oob_score_"
   ]
  },
  {
   "cell_type": "code",
   "execution_count": 12,
   "id": "51a5ac6f",
   "metadata": {},
   "outputs": [
    {
     "data": {
      "text/plain": [
       "0.89"
      ]
     },
     "execution_count": 12,
     "metadata": {},
     "output_type": "execute_result"
    }
   ],
   "source": [
    "y_pred = bag_clf.predict(X_test)\n",
    "accuracy_score(y_test, y_pred)"
   ]
  },
  {
   "cell_type": "code",
   "execution_count": 13,
   "id": "dfbf96a5",
   "metadata": {},
   "outputs": [
    {
     "data": {
      "text/plain": [
       "array([[0.98941799, 0.01058201],\n",
       "       [0.        , 1.        ],\n",
       "       [0.05527638, 0.94472362],\n",
       "       [0.92307692, 0.07692308],\n",
       "       [1.        , 0.        ],\n",
       "       [1.        , 0.        ],\n",
       "       [0.99428571, 0.00571429],\n",
       "       [0.65555556, 0.34444444],\n",
       "       [0.54098361, 0.45901639],\n",
       "       [0.00534759, 0.99465241],\n",
       "       [0.5989011 , 0.4010989 ],\n",
       "       [0.86885246, 0.13114754],\n",
       "       [1.        , 0.        ],\n",
       "       [0.00510204, 0.99489796],\n",
       "       [0.52791878, 0.47208122],\n",
       "       [0.97674419, 0.02325581],\n",
       "       [1.        , 0.        ],\n",
       "       [1.        , 0.        ],\n",
       "       [0.99444444, 0.00555556],\n",
       "       [0.03208556, 0.96791444],\n",
       "       [0.        , 1.        ],\n",
       "       [0.        , 1.        ],\n",
       "       [0.78010471, 0.21989529],\n",
       "       [1.        , 0.        ],\n",
       "       [0.71282051, 0.28717949],\n",
       "       [0.39779006, 0.60220994],\n",
       "       [0.29508197, 0.70491803],\n",
       "       [1.        , 0.        ],\n",
       "       [0.        , 1.        ],\n",
       "       [0.        , 1.        ],\n",
       "       [0.0982659 , 0.9017341 ],\n",
       "       [0.44162437, 0.55837563],\n",
       "       [0.01075269, 0.98924731],\n",
       "       [0.98369565, 0.01630435],\n",
       "       [0.96256684, 0.03743316],\n",
       "       [0.85      , 0.15      ],\n",
       "       [0.01621622, 0.98378378],\n",
       "       [0.77005348, 0.22994652],\n",
       "       [0.84656085, 0.15343915],\n",
       "       [0.95833333, 0.04166667],\n",
       "       [0.02020202, 0.97979798],\n",
       "       [0.        , 1.        ],\n",
       "       [0.985     , 0.015     ],\n",
       "       [0.96721311, 0.03278689],\n",
       "       [1.        , 0.        ],\n",
       "       [0.02808989, 0.97191011],\n",
       "       [0.31979695, 0.68020305],\n",
       "       [0.89010989, 0.10989011],\n",
       "       [1.        , 0.        ],\n",
       "       [0.96551724, 0.03448276],\n",
       "       [0.        , 1.        ],\n",
       "       [1.        , 0.        ],\n",
       "       [1.        , 0.        ],\n",
       "       [0.        , 1.        ],\n",
       "       [0.74033149, 0.25966851],\n",
       "       [0.        , 1.        ],\n",
       "       [1.        , 0.        ],\n",
       "       [0.        , 1.        ],\n",
       "       [0.        , 1.        ],\n",
       "       [0.11235955, 0.88764045],\n",
       "       [1.        , 0.        ],\n",
       "       [0.        , 1.        ],\n",
       "       [0.40677966, 0.59322034],\n",
       "       [0.        , 1.        ],\n",
       "       [1.        , 0.        ],\n",
       "       [0.31182796, 0.68817204],\n",
       "       [0.38068182, 0.61931818],\n",
       "       [1.        , 0.        ],\n",
       "       [1.        , 0.        ],\n",
       "       [0.        , 1.        ],\n",
       "       [1.        , 0.        ],\n",
       "       [1.        , 0.        ],\n",
       "       [0.00558659, 0.99441341],\n",
       "       [1.        , 0.        ],\n",
       "       [0.01546392, 0.98453608],\n",
       "       [0.98843931, 0.01156069],\n",
       "       [0.91414141, 0.08585859],\n",
       "       [0.92670157, 0.07329843],\n",
       "       [0.95721925, 0.04278075],\n",
       "       [0.        , 1.        ],\n",
       "       [0.03571429, 0.96428571],\n",
       "       [0.99450549, 0.00549451],\n",
       "       [0.        , 1.        ],\n",
       "       [0.        , 1.        ],\n",
       "       [0.00595238, 0.99404762],\n",
       "       [0.99473684, 0.00526316],\n",
       "       [0.71428571, 0.28571429],\n",
       "       [0.38251366, 0.61748634],\n",
       "       [1.        , 0.        ],\n",
       "       [0.01104972, 0.98895028],\n",
       "       [0.70491803, 0.29508197],\n",
       "       [1.        , 0.        ],\n",
       "       [1.        , 0.        ],\n",
       "       [0.91160221, 0.08839779],\n",
       "       [1.        , 0.        ],\n",
       "       [0.62564103, 0.37435897],\n",
       "       [0.13294798, 0.86705202],\n",
       "       [0.64893617, 0.35106383],\n",
       "       [0.93258427, 0.06741573],\n",
       "       [0.        , 1.        ],\n",
       "       [0.25714286, 0.74285714],\n",
       "       [0.95027624, 0.04972376],\n",
       "       [1.        , 0.        ],\n",
       "       [0.        , 1.        ],\n",
       "       [0.98830409, 0.01169591],\n",
       "       [0.        , 1.        ],\n",
       "       [0.06417112, 0.93582888],\n",
       "       [0.03314917, 0.96685083],\n",
       "       [0.35057471, 0.64942529],\n",
       "       [1.        , 0.        ],\n",
       "       [0.00540541, 0.99459459],\n",
       "       [0.87634409, 0.12365591],\n",
       "       [0.        , 1.        ],\n",
       "       [0.        , 1.        ],\n",
       "       [0.        , 1.        ],\n",
       "       [0.26600985, 0.73399015],\n",
       "       [1.        , 0.        ],\n",
       "       [0.        , 1.        ],\n",
       "       [0.        , 1.        ],\n",
       "       [0.00552486, 0.99447514],\n",
       "       [0.90957447, 0.09042553],\n",
       "       [0.81725888, 0.18274112],\n",
       "       [0.        , 1.        ],\n",
       "       [1.        , 0.        ],\n",
       "       [0.24456522, 0.75543478],\n",
       "       [0.65989848, 0.34010152],\n",
       "       [0.        , 1.        ],\n",
       "       [0.0621118 , 0.9378882 ],\n",
       "       [0.64171123, 0.35828877],\n",
       "       [0.99425287, 0.00574713],\n",
       "       [0.03296703, 0.96703297],\n",
       "       [1.        , 0.        ],\n",
       "       [0.26842105, 0.73157895],\n",
       "       [0.52272727, 0.47727273],\n",
       "       [1.        , 0.        ],\n",
       "       [0.01069519, 0.98930481],\n",
       "       [0.98941799, 0.01058201],\n",
       "       [0.32768362, 0.67231638],\n",
       "       [0.86979167, 0.13020833],\n",
       "       [1.        , 0.        ],\n",
       "       [1.        , 0.        ],\n",
       "       [0.        , 1.        ],\n",
       "       [0.        , 1.        ],\n",
       "       [0.82010582, 0.17989418],\n",
       "       [1.        , 0.        ],\n",
       "       [0.01104972, 0.98895028],\n",
       "       [1.        , 0.        ],\n",
       "       [1.        , 0.        ],\n",
       "       [1.        , 0.        ],\n",
       "       [1.        , 0.        ],\n",
       "       [1.        , 0.        ],\n",
       "       [0.00613497, 0.99386503],\n",
       "       [0.93548387, 0.06451613],\n",
       "       [0.99404762, 0.00595238],\n",
       "       [0.03827751, 0.96172249],\n",
       "       [0.25388601, 0.74611399],\n",
       "       [0.97222222, 0.02777778],\n",
       "       [0.0989011 , 0.9010989 ],\n",
       "       [0.99459459, 0.00540541],\n",
       "       [0.        , 1.        ],\n",
       "       [0.        , 1.        ],\n",
       "       [0.68786127, 0.31213873],\n",
       "       [0.37912088, 0.62087912],\n",
       "       [0.65142857, 0.34857143],\n",
       "       [0.9040404 , 0.0959596 ],\n",
       "       [0.98369565, 0.01630435],\n",
       "       [0.03846154, 0.96153846],\n",
       "       [0.84236453, 0.15763547],\n",
       "       [0.        , 1.        ],\n",
       "       [0.        , 1.        ],\n",
       "       [0.05172414, 0.94827586],\n",
       "       [0.99468085, 0.00531915],\n",
       "       [1.        , 0.        ],\n",
       "       [1.        , 0.        ],\n",
       "       [0.00507614, 0.99492386],\n",
       "       [0.        , 1.        ],\n",
       "       [0.01657459, 0.98342541],\n",
       "       [0.        , 1.        ],\n",
       "       [1.        , 0.        ],\n",
       "       [1.        , 0.        ],\n",
       "       [0.95098039, 0.04901961],\n",
       "       [1.        , 0.        ],\n",
       "       [1.        , 0.        ],\n",
       "       [1.        , 0.        ],\n",
       "       [0.        , 1.        ],\n",
       "       [0.76243094, 0.23756906],\n",
       "       [0.39444444, 0.60555556],\n",
       "       [0.00598802, 0.99401198],\n",
       "       [0.        , 1.        ],\n",
       "       [0.27894737, 0.72105263],\n",
       "       [1.        , 0.        ],\n",
       "       [0.99401198, 0.00598802],\n",
       "       [0.        , 1.        ],\n",
       "       [1.        , 0.        ],\n",
       "       [0.01030928, 0.98969072],\n",
       "       [0.        , 1.        ],\n",
       "       [0.97938144, 0.02061856],\n",
       "       [0.        , 1.        ],\n",
       "       [0.        , 1.        ],\n",
       "       [1.        , 0.        ],\n",
       "       [0.        , 1.        ],\n",
       "       [0.59893048, 0.40106952],\n",
       "       [0.92090395, 0.07909605],\n",
       "       [0.00529101, 0.99470899],\n",
       "       [1.        , 0.        ],\n",
       "       [1.        , 0.        ],\n",
       "       [1.        , 0.        ],\n",
       "       [0.        , 1.        ],\n",
       "       [0.        , 1.        ],\n",
       "       [1.        , 0.        ],\n",
       "       [0.07954545, 0.92045455],\n",
       "       [1.        , 0.        ],\n",
       "       [0.01538462, 0.98461538],\n",
       "       [0.        , 1.        ],\n",
       "       [1.        , 0.        ],\n",
       "       [0.        , 1.        ],\n",
       "       [0.03608247, 0.96391753],\n",
       "       [1.        , 0.        ],\n",
       "       [0.92178771, 0.07821229],\n",
       "       [0.77248677, 0.22751323],\n",
       "       [0.66666667, 0.33333333],\n",
       "       [0.        , 1.        ],\n",
       "       [0.18811881, 0.81188119],\n",
       "       [1.        , 0.        ],\n",
       "       [0.9673913 , 0.0326087 ],\n",
       "       [0.97058824, 0.02941176],\n",
       "       [1.        , 0.        ],\n",
       "       [0.01058201, 0.98941799],\n",
       "       [0.        , 1.        ],\n",
       "       [0.45549738, 0.54450262],\n",
       "       [0.85964912, 0.14035088],\n",
       "       [0.        , 1.        ],\n",
       "       [0.        , 1.        ],\n",
       "       [0.99453552, 0.00546448],\n",
       "       [0.01156069, 0.98843931],\n",
       "       [0.        , 1.        ],\n",
       "       [0.95930233, 0.04069767],\n",
       "       [0.        , 1.        ],\n",
       "       [0.25142857, 0.74857143],\n",
       "       [0.        , 1.        ],\n",
       "       [1.        , 0.        ],\n",
       "       [0.        , 1.        ],\n",
       "       [0.        , 1.        ],\n",
       "       [0.98351648, 0.01648352],\n",
       "       [0.86597938, 0.13402062],\n",
       "       [0.99479167, 0.00520833],\n",
       "       [0.00540541, 0.99459459],\n",
       "       [0.09677419, 0.90322581],\n",
       "       [1.        , 0.        ],\n",
       "       [0.02747253, 0.97252747],\n",
       "       [0.        , 1.        ],\n",
       "       [0.09090909, 0.90909091],\n",
       "       [1.        , 0.        ],\n",
       "       [0.82513661, 0.17486339],\n",
       "       [0.        , 1.        ],\n",
       "       [0.97687861, 0.02312139],\n",
       "       [0.98324022, 0.01675978],\n",
       "       [0.0960452 , 0.9039548 ],\n",
       "       [0.19791667, 0.80208333],\n",
       "       [1.        , 0.        ],\n",
       "       [0.        , 1.        ],\n",
       "       [0.        , 1.        ],\n",
       "       [0.        , 1.        ],\n",
       "       [0.40116279, 0.59883721],\n",
       "       [0.97191011, 0.02808989],\n",
       "       [0.        , 1.        ],\n",
       "       [1.        , 0.        ],\n",
       "       [1.        , 0.        ],\n",
       "       [0.        , 1.        ],\n",
       "       [0.5326087 , 0.4673913 ],\n",
       "       [1.        , 0.        ],\n",
       "       [0.        , 1.        ],\n",
       "       [1.        , 0.        ],\n",
       "       [0.01058201, 0.98941799],\n",
       "       [0.        , 1.        ],\n",
       "       [0.08121827, 0.91878173],\n",
       "       [0.0960452 , 0.9039548 ],\n",
       "       [0.98850575, 0.01149425],\n",
       "       [0.01818182, 0.98181818],\n",
       "       [1.        , 0.        ],\n",
       "       [0.5       , 0.5       ],\n",
       "       [0.09137056, 0.90862944],\n",
       "       [0.65853659, 0.34146341],\n",
       "       [0.58469945, 0.41530055],\n",
       "       [0.        , 1.        ],\n",
       "       [1.        , 0.        ],\n",
       "       [0.00540541, 0.99459459],\n",
       "       [0.        , 1.        ],\n",
       "       [0.51530612, 0.48469388],\n",
       "       [0.        , 1.        ],\n",
       "       [1.        , 0.        ],\n",
       "       [0.37704918, 0.62295082],\n",
       "       [0.9       , 0.1       ],\n",
       "       [0.05494505, 0.94505495],\n",
       "       [1.        , 0.        ],\n",
       "       [0.86666667, 0.13333333],\n",
       "       [0.        , 1.        ],\n",
       "       [0.        , 1.        ],\n",
       "       [0.14689266, 0.85310734],\n",
       "       [0.03846154, 0.96153846],\n",
       "       [0.        , 1.        ],\n",
       "       [0.98342541, 0.01657459],\n",
       "       [0.96      , 0.04      ],\n",
       "       [0.20833333, 0.79166667],\n",
       "       [0.92553191, 0.07446809],\n",
       "       [0.00938967, 0.99061033],\n",
       "       [0.64864865, 0.35135135],\n",
       "       [0.03208556, 0.96791444],\n",
       "       [0.97382199, 0.02617801],\n",
       "       [0.76363636, 0.23636364],\n",
       "       [0.        , 1.        ],\n",
       "       [0.99438202, 0.00561798],\n",
       "       [0.92168675, 0.07831325],\n",
       "       [0.        , 1.        ],\n",
       "       [0.        , 1.        ],\n",
       "       [1.        , 0.        ],\n",
       "       [0.        , 1.        ],\n",
       "       [1.        , 0.        ],\n",
       "       [0.29015544, 0.70984456],\n",
       "       [1.        , 0.        ],\n",
       "       [1.        , 0.        ],\n",
       "       [0.        , 1.        ],\n",
       "       [0.01081081, 0.98918919],\n",
       "       [0.90810811, 0.09189189],\n",
       "       [0.        , 1.        ],\n",
       "       [1.        , 0.        ],\n",
       "       [0.87165775, 0.12834225],\n",
       "       [1.        , 0.        ],\n",
       "       [1.        , 0.        ],\n",
       "       [0.74611399, 0.25388601],\n",
       "       [0.43243243, 0.56756757],\n",
       "       [0.        , 1.        ],\n",
       "       [0.89473684, 0.10526316],\n",
       "       [0.        , 1.        ],\n",
       "       [1.        , 0.        ],\n",
       "       [0.77325581, 0.22674419],\n",
       "       [1.        , 0.        ],\n",
       "       [1.        , 0.        ],\n",
       "       [0.74698795, 0.25301205],\n",
       "       [0.13333333, 0.86666667],\n",
       "       [0.48768473, 0.51231527],\n",
       "       [0.18888889, 0.81111111],\n",
       "       [0.        , 1.        ],\n",
       "       [0.94318182, 0.05681818],\n",
       "       [0.8556701 , 0.1443299 ],\n",
       "       [0.00543478, 0.99456522],\n",
       "       [1.        , 0.        ],\n",
       "       [1.        , 0.        ],\n",
       "       [1.        , 0.        ],\n",
       "       [0.        , 1.        ],\n",
       "       [0.03636364, 0.96363636],\n",
       "       [0.93785311, 0.06214689],\n",
       "       [0.95906433, 0.04093567],\n",
       "       [1.        , 0.        ],\n",
       "       [0.4852071 , 0.5147929 ],\n",
       "       [1.        , 0.        ],\n",
       "       [0.        , 1.        ],\n",
       "       [0.98958333, 0.01041667],\n",
       "       [0.01639344, 0.98360656],\n",
       "       [1.        , 0.        ],\n",
       "       [1.        , 0.        ],\n",
       "       [1.        , 0.        ],\n",
       "       [0.        , 1.        ],\n",
       "       [0.97126437, 0.02873563],\n",
       "       [0.        , 1.        ],\n",
       "       [0.07100592, 0.92899408],\n",
       "       [0.        , 1.        ],\n",
       "       [0.        , 1.        ],\n",
       "       [1.        , 0.        ],\n",
       "       [1.        , 0.        ],\n",
       "       [0.        , 1.        ],\n",
       "       [1.        , 0.        ],\n",
       "       [0.        , 1.        ],\n",
       "       [1.        , 0.        ],\n",
       "       [0.18367347, 0.81632653],\n",
       "       [0.        , 1.        ],\n",
       "       [0.        , 1.        ],\n",
       "       [0.        , 1.        ],\n",
       "       [0.43258427, 0.56741573],\n",
       "       [0.13636364, 0.86363636],\n",
       "       [0.2513369 , 0.7486631 ],\n",
       "       [1.        , 0.        ],\n",
       "       [0.96464646, 0.03535354],\n",
       "       [0.18181818, 0.81818182],\n",
       "       [0.98360656, 0.01639344],\n",
       "       [0.        , 1.        ],\n",
       "       [0.        , 1.        ],\n",
       "       [1.        , 0.        ],\n",
       "       [0.98907104, 0.01092896],\n",
       "       [0.34636872, 0.65363128],\n",
       "       [0.98245614, 0.01754386],\n",
       "       [1.        , 0.        ],\n",
       "       [0.        , 1.        ],\n",
       "       [1.        , 0.        ],\n",
       "       [0.        , 1.        ],\n",
       "       [0.0308642 , 0.9691358 ],\n",
       "       [0.9893617 , 0.0106383 ],\n",
       "       [1.        , 0.        ],\n",
       "       [0.06521739, 0.93478261],\n",
       "       [0.835     , 0.165     ]])"
      ]
     },
     "execution_count": 13,
     "metadata": {},
     "output_type": "execute_result"
    }
   ],
   "source": [
    "bag_clf.oob_decision_function_ # it returns the class probabilites for each training instance"
   ]
  },
  {
   "cell_type": "markdown",
   "id": "6bebb525",
   "metadata": {},
   "source": [
    "#### Random Patches and Random Subspaces\n",
    "\n",
    "The BaggingClassifier class supports sampling the features as well. This can be controlled by two hyperparameters: max_features and bootstrap_features. \n",
    "This is useful when dealing with high-dimensional inputs such as images. \n",
    "\n",
    "Sampling both training instances and features is called the Random Patches method.\n",
    "\n",
    "Keeping all training instances (i.e. bootstrap=False and max_samples=1) but sampling features (i.e. bootstrap_features=True and/or max_features smaller than 1) is called the Random Subspaces method.\n",
    "\n",
    "Sampling features results in even more predictor diversity, trading a bit more bias for a lower variance."
   ]
  },
  {
   "cell_type": "markdown",
   "id": "5c9d9af3",
   "metadata": {},
   "source": [
    "### Random Forests"
   ]
  },
  {
   "cell_type": "code",
   "execution_count": 14,
   "id": "90a3354f",
   "metadata": {},
   "outputs": [],
   "source": [
    "from sklearn.ensemble import RandomForestClassifier\n",
    "\n",
    "rnd_clf = RandomForestClassifier(n_estimators=500, max_leaf_nodes=16)\n",
    "rnd_clf.fit(X_train, y_train)\n",
    "\n",
    "y_pred = rnd_clf.predict(X_test)"
   ]
  },
  {
   "cell_type": "markdown",
   "id": "bfda686e",
   "metadata": {},
   "source": [
    "#### Extra-Trees\n",
    "\n",
    "We can make trees more random by using random thresholds for each feature rather than searching for the best possible thresholds and it is called an Extremely Randomized Trees ensemble or Extra-Trees. But this trades more bias for a lower variance. It also makes Extra Trees much faster to train than regular Random Forest since finding the best possible threshold for each feature at every node is time consuming.\n",
    "\n",
    "We can create an Extra-Trees Classifier using Scikit-learn's ExtraTreesClassifier class. "
   ]
  },
  {
   "cell_type": "code",
   "execution_count": 17,
   "id": "25d9aa50",
   "metadata": {},
   "outputs": [],
   "source": [
    "from sklearn.ensemble import ExtraTreesClassifier\n",
    "\n",
    "extra_tree_clf = ExtraTreesClassifier(n_estimators=500)\n",
    "extra_tree_clf.fit(X_train, y_train)\n",
    "\n",
    "y_pred_extra_tree = extra_tree_clf.predict(X_test)"
   ]
  },
  {
   "cell_type": "code",
   "execution_count": 19,
   "id": "18e6b3b2",
   "metadata": {},
   "outputs": [
    {
     "data": {
      "text/plain": [
       "0.87"
      ]
     },
     "execution_count": 19,
     "metadata": {},
     "output_type": "execute_result"
    }
   ],
   "source": [
    "accuracy_score(y_test, y_pred_extra_tree)"
   ]
  },
  {
   "cell_type": "markdown",
   "id": "b78e4da3",
   "metadata": {},
   "source": [
    "#### Feature Importance\n",
    "\n",
    "In Decision Tree, important features are likely to appear closer to the root of the tree, while unimportant features will often appear closer to the leaves. "
   ]
  },
  {
   "cell_type": "code",
   "execution_count": 20,
   "id": "b3823d6f",
   "metadata": {},
   "outputs": [
    {
     "data": {
      "text/plain": [
       "RandomForestClassifier(n_estimators=500)"
      ]
     },
     "execution_count": 20,
     "metadata": {},
     "output_type": "execute_result"
    }
   ],
   "source": [
    "from sklearn.datasets import load_iris\n",
    "\n",
    "iris = load_iris()\n",
    "rnd_clf = RandomForestClassifier(n_estimators=500)\n",
    "rnd_clf.fit(iris[\"data\"], iris[\"target\"])"
   ]
  },
  {
   "cell_type": "code",
   "execution_count": 21,
   "id": "c86e6a8a",
   "metadata": {},
   "outputs": [
    {
     "name": "stdout",
     "output_type": "stream",
     "text": [
      "sepal length (cm) 0.09461124475251456\n",
      "sepal width (cm) 0.023138774929102046\n",
      "petal length (cm) 0.43433141095148736\n",
      "petal width (cm) 0.44791856936689595\n"
     ]
    }
   ],
   "source": [
    "for name, score in zip(iris[\"feature_names\"], rnd_clf.feature_importances_):\n",
    "    print(name, score)"
   ]
  },
  {
   "cell_type": "code",
   "execution_count": 23,
   "id": "41326269",
   "metadata": {},
   "outputs": [],
   "source": [
    "from sklearn.datasets import fetch_openml\n",
    "import numpy as np\n",
    "\n",
    "mnist = fetch_openml('mnist_784', version=1, as_frame=False)\n",
    "mnist.target = mnist.target.astype(np.int64)"
   ]
  },
  {
   "cell_type": "code",
   "execution_count": 25,
   "id": "c00ba214",
   "metadata": {},
   "outputs": [
    {
     "data": {
      "text/plain": [
       "RandomForestClassifier(n_estimators=10, random_state=42)"
      ]
     },
     "execution_count": 25,
     "metadata": {},
     "output_type": "execute_result"
    }
   ],
   "source": [
    "rnd_clf = RandomForestClassifier(n_estimators=10, random_state=42)\n",
    "rnd_clf.fit(mnist[\"data\"], mnist[\"target\"])"
   ]
  },
  {
   "cell_type": "code",
   "execution_count": 27,
   "id": "9f84954a",
   "metadata": {},
   "outputs": [],
   "source": [
    "%matplotlib inline\n",
    "import matplotlib as mpl\n",
    "import matplotlib.pyplot as plt\n",
    "\n",
    "def plot_digit(data):\n",
    "    img = data.reshape(28, 28)\n",
    "    plt.imshow(img, cmap=mpl.cm.hot, interpolation='nearest')\n",
    "    plt.axis(\"off\")"
   ]
  },
  {
   "cell_type": "code",
   "execution_count": 30,
   "id": "ba4fbb6a",
   "metadata": {},
   "outputs": [
    {
     "data": {
      "image/png": "[encoded data removed]",
      "text/plain": [
       "<Figure size 640x480 with 2 Axes>"
      ]
     },
     "metadata": {},
     "output_type": "display_data"
    }
   ],
   "source": [
    "plot_digit(rnd_clf.feature_importances_)\n",
    "cbar = plt.colorbar(ticks=[rnd_clf.feature_importances_.min(), rnd_clf.feature_importances_.max()])\n",
    "cbar.ax.set_yticklabels(['Not important', 'Very important'])\n",
    "\n",
    "plt.show()"
   ]
  },
  {
   "cell_type": "code",
   "execution_count": null,
   "id": "28f45caa",
   "metadata": {},
   "outputs": [],
   "source": []
  }
 ],
 "metadata": {
  "kernelspec": {
   "display_name": "Python 3 (ipykernel)",
   "language": "python",
   "name": "python3"
  },
  "language_info": {
   "codemirror_mode": {
    "name": "ipython",
    "version": 3
   },
   "file_extension": ".py",
   "mimetype": "text/x-python",
   "name": "python",
   "nbconvert_exporter": "python",
   "pygments_lexer": "ipython3",
   "version": "3.7.4"
  }
 },
 "nbformat": 4,
 "nbformat_minor": 5
}
